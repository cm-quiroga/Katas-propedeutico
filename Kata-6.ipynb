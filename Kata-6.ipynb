{
 "cells": [
  {
   "cell_type": "code",
   "execution_count": 5,
   "metadata": {},
   "outputs": [
    {
     "name": "stdout",
     "output_type": "stream",
     "text": [
      "8\n",
      "9 Pluton\n"
     ]
    }
   ],
   "source": [
    "#  Usar listas para almacenar nombres de planetas\n",
    "planets = [\"Mercurio\", \"Venus\", \"Tierra\", \"Marte\", \"Jupiter\", \"Saturno\", \"Urano\", \"Neptuno\"]\n",
    "print(len(planets))\n",
    "planets.append(\"Pluton\")\n",
    "print(len(planets), planets[-1])\n"
   ]
  },
  {
   "cell_type": "code",
   "execution_count": 8,
   "metadata": {},
   "outputs": [
    {
     "name": "stdout",
     "output_type": "stream",
     "text": [
      "Estos son los planetas mas cercanos que Mars al sol: \n",
      "['Mercury', 'Venus', 'Earth']\n",
      "Estos son los planetas mas lejanos que Mars al sol: \n",
      "['Jupiter', 'Saturn', 'Neptune']\n"
     ]
    }
   ],
   "source": [
    "# Usar slices para recuperar partes de una lista\n",
    "planets = ['Mercury', 'Venus', 'Earth', 'Mars', 'Jupiter', 'Saturn', 'Neptune']\n",
    "x = input(\"Ingresa el nombre de un planeta iniciando con la primera letra en mayuscula: \")\n",
    "y = planets.index(x)\n",
    "print(f\"Estos son los planetas mas cercanos que {x} al sol: \")\n",
    "print(planets[:y])\n",
    "print(f\"Estos son los planetas mas lejanos que {x} al sol: \")\n",
    "print(planets[y+1:])\n"
   ]
  }
 ],
 "metadata": {
  "interpreter": {
   "hash": "a33de74e353dd2019ce878f939f1f5c12006663059a7eef1eae730f3d7c813d6"
  },
  "kernelspec": {
   "display_name": "Python 3.10.2 64-bit",
   "language": "python",
   "name": "python3"
  },
  "language_info": {
   "codemirror_mode": {
    "name": "ipython",
    "version": 3
   },
   "file_extension": ".py",
   "mimetype": "text/x-python",
   "name": "python",
   "nbconvert_exporter": "python",
   "pygments_lexer": "ipython3",
   "version": "3.10.2"
  },
  "orig_nbformat": 4
 },
 "nbformat": 4,
 "nbformat_minor": 2
}
