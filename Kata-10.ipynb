{
 "cells": [
  {
   "cell_type": "code",
   "execution_count": 1,
   "metadata": {},
   "outputs": [],
   "source": [
    "# Manejo de errores\n",
    "\n",
    "def agua(astronautas, agua_que_queda, dias_faltantes):\n",
    "    daily_usage = astronautas * 11\n",
    "    total_usage = daily_usage * dias_faltantes\n",
    "    total_agua_que_queda = agua_que_queda - total_usage\n",
    "    if total_agua_que_queda < 0:\n",
    "        raise RuntimeError(f\"There is not enough water for {astronautas} astronautas after {dias_faltantes} days!\")\n",
    "    return f\"Total water left after {dias_faltantes} days is: {total_agua_que_queda} liters\""
   ]
  },
  {
   "cell_type": "code",
   "execution_count": 2,
   "metadata": {},
   "outputs": [
    {
     "ename": "RuntimeError",
     "evalue": "There is not enough water for 5 astronautas after 2 days!",
     "output_type": "error",
     "traceback": [
      "\u001b[1;31m---------------------------------------------------------------------------\u001b[0m",
      "\u001b[1;31mRuntimeError\u001b[0m                              Traceback (most recent call last)",
      "\u001b[1;32mc:\\Users\\cielo\\OneDrive\\OneDrive - Universidad de Guanajuato\\Documents\\Documents\\LaunchX\\Kata-10.ipynb Cell 2'\u001b[0m in \u001b[0;36m<module>\u001b[1;34m\u001b[0m\n\u001b[1;32m----> <a href='vscode-notebook-cell:/c%3A/Users/cielo/OneDrive/OneDrive%20-%20Universidad%20de%20Guanajuato/Documents/Documents/LaunchX/Kata-10.ipynb#ch0000001?line=0'>1</a>\u001b[0m agua(\u001b[39m5\u001b[39;49m, \u001b[39m100\u001b[39;49m, \u001b[39m2\u001b[39;49m)\n",
      "\u001b[1;32mc:\\Users\\cielo\\OneDrive\\OneDrive - Universidad de Guanajuato\\Documents\\Documents\\LaunchX\\Kata-10.ipynb Cell 1'\u001b[0m in \u001b[0;36magua\u001b[1;34m(astronautas, agua_que_queda, dias_faltantes)\u001b[0m\n\u001b[0;32m      <a href='vscode-notebook-cell:/c%3A/Users/cielo/OneDrive/OneDrive%20-%20Universidad%20de%20Guanajuato/Documents/Documents/LaunchX/Kata-10.ipynb#ch0000000?line=5'>6</a>\u001b[0m total_agua_que_queda \u001b[39m=\u001b[39m agua_que_queda \u001b[39m-\u001b[39m total_usage\n\u001b[0;32m      <a href='vscode-notebook-cell:/c%3A/Users/cielo/OneDrive/OneDrive%20-%20Universidad%20de%20Guanajuato/Documents/Documents/LaunchX/Kata-10.ipynb#ch0000000?line=6'>7</a>\u001b[0m \u001b[39mif\u001b[39;00m total_agua_que_queda \u001b[39m<\u001b[39m \u001b[39m0\u001b[39m:\n\u001b[1;32m----> <a href='vscode-notebook-cell:/c%3A/Users/cielo/OneDrive/OneDrive%20-%20Universidad%20de%20Guanajuato/Documents/Documents/LaunchX/Kata-10.ipynb#ch0000000?line=7'>8</a>\u001b[0m     \u001b[39mraise\u001b[39;00m \u001b[39mRuntimeError\u001b[39;00m(\u001b[39mf\u001b[39m\u001b[39m\"\u001b[39m\u001b[39mThere is not enough water for \u001b[39m\u001b[39m{\u001b[39;00mastronautas\u001b[39m}\u001b[39;00m\u001b[39m astronautas after \u001b[39m\u001b[39m{\u001b[39;00mdias_faltantes\u001b[39m}\u001b[39;00m\u001b[39m days!\u001b[39m\u001b[39m\"\u001b[39m)\n\u001b[0;32m      <a href='vscode-notebook-cell:/c%3A/Users/cielo/OneDrive/OneDrive%20-%20Universidad%20de%20Guanajuato/Documents/Documents/LaunchX/Kata-10.ipynb#ch0000000?line=8'>9</a>\u001b[0m \u001b[39mreturn\u001b[39;00m \u001b[39mf\u001b[39m\u001b[39m\"\u001b[39m\u001b[39mTotal water left after \u001b[39m\u001b[39m{\u001b[39;00mdias_faltantes\u001b[39m}\u001b[39;00m\u001b[39m days is: \u001b[39m\u001b[39m{\u001b[39;00mtotal_agua_que_queda\u001b[39m}\u001b[39;00m\u001b[39m liters\u001b[39m\u001b[39m\"\u001b[39m\n",
      "\u001b[1;31mRuntimeError\u001b[0m: There is not enough water for 5 astronautas after 2 days!"
     ]
    }
   ],
   "source": [
    "agua(5, 100, 2)"
   ]
  }
 ],
 "metadata": {
  "interpreter": {
   "hash": "a33de74e353dd2019ce878f939f1f5c12006663059a7eef1eae730f3d7c813d6"
  },
  "kernelspec": {
   "display_name": "Python 3.10.2 64-bit",
   "language": "python",
   "name": "python3"
  },
  "language_info": {
   "codemirror_mode": {
    "name": "ipython",
    "version": 3
   },
   "file_extension": ".py",
   "mimetype": "text/x-python",
   "name": "python",
   "nbconvert_exporter": "python",
   "pygments_lexer": "ipython3",
   "version": "3.10.2"
  },
  "orig_nbformat": 4
 },
 "nbformat": 4,
 "nbformat_minor": 2
}
