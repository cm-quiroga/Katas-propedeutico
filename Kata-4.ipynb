{
 "cells": [
  {
   "cell_type": "code",
   "execution_count": 15,
   "metadata": {},
   "outputs": [],
   "source": [
    "# Transformar cadenas\n",
    "text = \"\"\"Interesting facts about the Moon. The Moon is Earth's only satellite. There are several interesting facts about the Moon and how it affects life here on Earth. \n",
    "On average, the Moon moves 4cm away from the Earth every year. This yearly drift is not significant enough to cause immediate effects on Earth. The highest daylight temperature of the Moon is 127 C.\"\"\""
   ]
  },
  {
   "cell_type": "code",
   "execution_count": 16,
   "metadata": {},
   "outputs": [],
   "source": [
    "# Dividir el texto\n",
    "frases = text.split('.')"
   ]
  },
  {
   "cell_type": "code",
   "execution_count": 18,
   "metadata": {},
   "outputs": [
    {
     "name": "stdout",
     "output_type": "stream",
     "text": [
      "average:\n",
      " \n",
      "On average, the Moon moves 4cm away from the Earth every year\n",
      "temperature:\n",
      " The highest daylight temperature of the Moon is 127 C\n",
      "distance:\n"
     ]
    }
   ],
   "source": [
    "# Ahora, define algunas palabras clave para búsqueda que te ayudarán a determinar si una oración contiene un hecho.\n",
    "x = [\"average\", \"temperature\", \"distance\"]\n",
    "for clave in x:\n",
    "    print(clave + ':')\n",
    "    for frase in frases:\n",
    "        if clave in frase:\n",
    "            print(frase)\n"
   ]
  },
  {
   "cell_type": "code",
   "execution_count": 20,
   "metadata": {},
   "outputs": [
    {
     "name": "stdout",
     "output_type": "stream",
     "text": [
      "average:\n",
      " \n",
      "On average, the Moon moves 4cm away from the Earth every year\n",
      "temperature:\n",
      " The highest daylight temperature of the Moon is 127 Celsius\n",
      "distance:\n"
     ]
    }
   ],
   "source": [
    "# Finalmente, actualiza el bucle(ciclo) para cambiar C a Celsius: \n",
    "x = [\"average\", \"temperature\", \"distance\"]\n",
    "for clave in x:\n",
    "    print(clave + ':')\n",
    "    for frase in frases:\n",
    "        if clave in frase:\n",
    "            print(frase.replace(\"C\", \"Celsius\"))\n",
    "\n"
   ]
  },
  {
   "cell_type": "code",
   "execution_count": 25,
   "metadata": {},
   "outputs": [
    {
     "name": "stdout",
     "output_type": "stream",
     "text": [
      "Entre la Earth y la Moon la distancia es 0.00162 Km \n",
      " y en metros es 1.6199999999999999.\n"
     ]
    }
   ],
   "source": [
    "# Formateando Cadenas\n",
    "name = \"Moon\"\n",
    "gravity = 0.00162 # in kms\n",
    "planet = \"Earth\"\n",
    "Titulo = f'Entre la {planet} y la {name}'\n",
    "Plantilla = f'{Titulo} la distancia es {gravity} Km \\n y en metros es {gravity*1000}.'\n",
    "print(Plantilla)"
   ]
  },
  {
   "cell_type": "code",
   "execution_count": 27,
   "metadata": {},
   "outputs": [
    {
     "name": "stdout",
     "output_type": "stream",
     "text": [
      "Entre la Marte  y la Ganímedes la distancia es 0.00143 Km \n",
      " y en metros es 1.4300000000000002.\n"
     ]
    }
   ],
   "source": [
    "# Nueva plantilla\n",
    "planeta = 'Marte '\n",
    "gravedad  = 0.00143\n",
    "nombre = 'Ganímedes'\n",
    "Titulo = f'Entre la {planet} y la {name}'\n",
    "Plantilla = f'{Titulo} la distancia es {gravity} Km \\n y en metros es {gravity*1000}.'\n",
    "print(Plantilla.format(name=nombre, planet=planeta, gravity=gravedad))"
   ]
  }
 ],
 "metadata": {
  "interpreter": {
   "hash": "a33de74e353dd2019ce878f939f1f5c12006663059a7eef1eae730f3d7c813d6"
  },
  "kernelspec": {
   "display_name": "Python 3.10.2 64-bit",
   "language": "python",
   "name": "python3"
  },
  "language_info": {
   "codemirror_mode": {
    "name": "ipython",
    "version": 3
   },
   "file_extension": ".py",
   "mimetype": "text/x-python",
   "name": "python",
   "nbconvert_exporter": "python",
   "pygments_lexer": "ipython3",
   "version": "3.10.2"
  },
  "orig_nbformat": 4
 },
 "nbformat": 4,
 "nbformat_minor": 2
}
