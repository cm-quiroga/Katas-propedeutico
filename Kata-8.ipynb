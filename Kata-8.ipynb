{
 "cells": [
  {
   "cell_type": "code",
   "execution_count": 6,
   "metadata": {},
   "outputs": [
    {
     "name": "stdout",
     "output_type": "stream",
     "text": [
      "Mars\n",
      "2\n",
      "Mars tiene 6752 Km de circunferencia polar.\n"
     ]
    }
   ],
   "source": [
    "# Administrar datos con diccionarios\n",
    "# Creación de diccionarios de Python\n",
    "planet = {'name': 'Mars', 'moons': 2}\n",
    "print(planet.get('name'))\n",
    "print(planet['moons'])\n",
    "\n",
    "planet['circunferencia(km)'] = {'polar': 6752, 'equatorial': 6792}  \n",
    "print(f\"{planet['name']} tiene {planet['circunferencia(km)']['polar']} km de circunferencia polar.\")"
   ]
  },
  {
   "cell_type": "code",
   "execution_count": 17,
   "metadata": {},
   "outputs": [
    {
     "name": "stdout",
     "output_type": "stream",
     "text": [
      "214\n",
      "El promedio es 17.833333333333332\n"
     ]
    }
   ],
   "source": [
    "# Programación dinámica con diccionarios\n",
    "# Cálculo de valores\n",
    "\n",
    "planet_moons = {\n",
    "    'mercury': 0,\n",
    "    'venus': 0,\n",
    "    'earth': 1,\n",
    "    'mars': 2,\n",
    "    'jupiter': 79,\n",
    "    'saturn': 82,\n",
    "    'uranus': 27,\n",
    "    'neptune': 14,\n",
    "    'pluto': 5,\n",
    "    'haumea': 2,\n",
    "    'makemake': 1,\n",
    "    'eris': 1\n",
    "}\n",
    "planets = planet_moons.keys()\n",
    "moons = planet_moons.values()\n",
    "total_moons = 0\n",
    "for moon in moons:\n",
    "    total_moons += moon    # += sumar total_moons + moon para este caso\n",
    "print(total_moons)\n",
    "promedio = total_moons/len(planet_moons)\n",
    "print(f\"El promedio es {promedio}\")\n",
    "\n"
   ]
  }
 ],
 "metadata": {
  "interpreter": {
   "hash": "a33de74e353dd2019ce878f939f1f5c12006663059a7eef1eae730f3d7c813d6"
  },
  "kernelspec": {
   "display_name": "Python 3.10.2 64-bit",
   "language": "python",
   "name": "python3"
  },
  "language_info": {
   "codemirror_mode": {
    "name": "ipython",
    "version": 3
   },
   "file_extension": ".py",
   "mimetype": "text/x-python",
   "name": "python",
   "nbconvert_exporter": "python",
   "pygments_lexer": "ipython3",
   "version": "3.10.2"
  },
  "orig_nbformat": 4
 },
 "nbformat": 4,
 "nbformat_minor": 2
}
