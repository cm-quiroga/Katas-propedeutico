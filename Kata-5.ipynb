{
 "cells": [
  {
   "cell_type": "code",
   "execution_count": 11,
   "metadata": {},
   "outputs": [
    {
     "name": "stdout",
     "output_type": "stream",
     "text": [
      "149597870 778547200\n"
     ]
    }
   ],
   "source": [
    "# Crear variables\n",
    "x = '149.597.870 km'\n",
    "y = '778.547.200 km'\n",
    "Tierra = x.split()\n",
    "tierra = int(Tierra[0].replace('.',''))\n",
    "Jupiter = y.split()\n",
    "jupiter = int(Jupiter[0].replace('.',''))\n",
    "print(tierra, jupiter)"
   ]
  },
  {
   "cell_type": "code",
   "execution_count": 14,
   "metadata": {},
   "outputs": [
    {
     "name": "stdout",
     "output_type": "stream",
     "text": [
      "La distancia en Km es 156109449 y la distancia en millas es 96943967.829.\n"
     ]
    }
   ],
   "source": [
    "# Calcular la distancia entre planetas\n",
    "D = abs(tierra - jupiter)\n",
    "D_millas = D*0.621\n",
    "print(f'La distancia en Km es {D} y la distancia en millas es {D_millas}.')\n"
   ]
  },
  {
   "cell_type": "code",
   "execution_count": 13,
   "metadata": {},
   "outputs": [],
   "source": [
    "# Convierte cadenas en números y usa valores absolutos\n",
    "tierra = int(input('Ingrese la distancia del sol al planeta 1:'))\n",
    "jupiter = int(input('Ingrese la distancia del sol al planeta 2:'))\n"
   ]
  }
 ],
 "metadata": {
  "interpreter": {
   "hash": "a33de74e353dd2019ce878f939f1f5c12006663059a7eef1eae730f3d7c813d6"
  },
  "kernelspec": {
   "display_name": "Python 3.10.2 64-bit",
   "language": "python",
   "name": "python3"
  },
  "language_info": {
   "codemirror_mode": {
    "name": "ipython",
    "version": 3
   },
   "file_extension": ".py",
   "mimetype": "text/x-python",
   "name": "python",
   "nbconvert_exporter": "python",
   "pygments_lexer": "ipython3",
   "version": "3.10.2"
  },
  "orig_nbformat": 4
 },
 "nbformat": 4,
 "nbformat_minor": 2
}
