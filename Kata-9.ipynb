{
 "cells": [
  {
   "cell_type": "code",
   "execution_count": 8,
   "metadata": {},
   "outputs": [],
   "source": [
    "# Uso de funciones en Python\n",
    "# Trabajar con argumentos en funciones\n",
    "def combustibles(t1, t2, t3):\n",
    "   # promedio = fun_promedio(t1, t2, t3)\n",
    "    return fun_promedio(t1, t2, t3)\n",
    "    \n",
    "def fun_promedio(t1, t2, t3):\n",
    "    return (t1 + t2 + t3)/3\n",
    "\n",
    " "
   ]
  },
  {
   "cell_type": "code",
   "execution_count": 9,
   "metadata": {},
   "outputs": [
    {
     "name": "stdout",
     "output_type": "stream",
     "text": [
      "8.0\n"
     ]
    }
   ],
   "source": [
    "print(combustibles(3, 5, 16))  # Estamos llamando la función, se le debe asignar valores a cada argumento"
   ]
  },
  {
   "cell_type": "code",
   "execution_count": null,
   "metadata": {},
   "outputs": [],
   "source": [
    "# Trabajo con argumentos de palabra clave\n",
    "# Trabajar con argumentos de palabras clave en funciones\n",
    "def mision(hora_de_prelanzamiento, tiempo_de_vuelo, destino, tanque_externo, tanque_interno):\n",
    "    print(hora_de_prelanzamiento, tiempo_de_vuelo, destino, tanque_externo, tanque_interno)\n"
   ]
  },
  {
   "cell_type": "code",
   "execution_count": 10,
   "metadata": {},
   "outputs": [],
   "source": [
    "def mision(destino, *minutes, **tanques):    \n",
    "    print(f'El destino es: {destino}')\n",
    "    print(f'Los minutos son: {sum(minutes)}')\n",
    "    print(f'Los litros de los tanques son: {sum(tanques.values())}')"
   ]
  },
  {
   "cell_type": "code",
   "execution_count": 14,
   "metadata": {},
   "outputs": [
    {
     "name": "stdout",
     "output_type": "stream",
     "text": [
      "El destino es: Marte\n",
      "Los minutos son: 99\n",
      "El tanque_principal tiene 100 litros: \n",
      "El tanque_aux tiene 200 litros: \n"
     ]
    }
   ],
   "source": [
    "mision('Marte', 15, 36,48, tanque_principal=100, tanque_aux=200)\n"
   ]
  },
  {
   "cell_type": "code",
   "execution_count": 15,
   "metadata": {},
   "outputs": [],
   "source": [
    "def mision(destino, *minutes, **tanques):    \n",
    "    print(f'El destino es: {destino}')\n",
    "    print(f'Los minutos son: {sum(minutes)}')\n",
    "    for tanque in tanques.keys():\n",
    "        print(f'El {tanque} tiene {tanques[tanque]} litros: ')\n"
   ]
  }
 ],
 "metadata": {
  "interpreter": {
   "hash": "a33de74e353dd2019ce878f939f1f5c12006663059a7eef1eae730f3d7c813d6"
  },
  "kernelspec": {
   "display_name": "Python 3.10.2 64-bit",
   "language": "python",
   "name": "python3"
  },
  "language_info": {
   "codemirror_mode": {
    "name": "ipython",
    "version": 3
   },
   "file_extension": ".py",
   "mimetype": "text/x-python",
   "name": "python",
   "nbconvert_exporter": "python",
   "pygments_lexer": "ipython3",
   "version": "3.10.2"
  },
  "orig_nbformat": 4
 },
 "nbformat": 4,
 "nbformat_minor": 2
}
