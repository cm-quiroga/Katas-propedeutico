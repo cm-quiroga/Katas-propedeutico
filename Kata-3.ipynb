{
 "cells": [
  {
   "cell_type": "code",
   "execution_count": 2,
   "metadata": {},
   "outputs": [
    {
     "name": "stdout",
     "output_type": "stream",
     "text": [
      "Un asteriode se acerca a la Tierra demasiado rápido.\n"
     ]
    }
   ],
   "source": [
    "# Ejercicio - Escribir declaraciones if, else, y elif\n",
    "velocidad_asteroide = 49  # Km/s\n",
    "advertencia = 25          # Km/s\n",
    "if velocidad_asteroide > advertencia:\n",
    "    print('Un asteriode se acerca a la Tierra demasiado rápido.')"
   ]
  },
  {
   "cell_type": "code",
   "execution_count": 6,
   "metadata": {},
   "outputs": [
    {
     "name": "stdout",
     "output_type": "stream",
     "text": [
      "El rayo de luz no se puede ver desde la tierra\n"
     ]
    }
   ],
   "source": [
    "a = 20 #Km/s\n",
    "b = 19 #Km/s\n",
    "if b < a:\n",
    "    print(\"El rayo de luz no se puede ver desde la tierra\")\n",
    "else:\n",
    "    print(\"Deben buscar un asteroide en el cielo\")\n"
   ]
  },
  {
   "cell_type": "code",
   "execution_count": 3,
   "metadata": {},
   "outputs": [
    {
     "name": "stdout",
     "output_type": "stream",
     "text": [
      "Alerta un asteroide viene en camino y causara mucho daño.\n"
     ]
    }
   ],
   "source": [
    "# Uso de operadores and y or\n",
    "v_asteroide = 49         # Velocidad del asteroide \n",
    "dim_asteroide = 26       # Dimensión del asteroide\n",
    "dim_min = 25             # Dimension minima del asteroide - constante\n",
    "dim_max = 1000           # Dimensión máxima del asteroide - constante\n",
    "lim_velocidad = 25       # Limite de velocidad del asteroide para generar advertencia - constante\n",
    "v_rayoluz = 20           # Velocidad del asteroide para generar el rayo de luz - constante\n",
    "if v_asteroide > lim_velocidad and dim_asteroide > dim_min:\n",
    "    print('Alerta un asteroide viene en camino y causara mucho daño.')\n",
    "\n",
    "elif v_asteroide >= v_rayoluz:\n",
    "    print('Un rayo de luz esta en el cielo.')\n",
    "\n",
    "else:\n",
    "    print('No hay alerta en el cielo.')\n",
    "\n",
    "\n",
    "    \n",
    "\n",
    "\n"
   ]
  }
 ],
 "metadata": {
  "interpreter": {
   "hash": "a33de74e353dd2019ce878f939f1f5c12006663059a7eef1eae730f3d7c813d6"
  },
  "kernelspec": {
   "display_name": "Python 3.10.2 64-bit",
   "language": "python",
   "name": "python3"
  },
  "language_info": {
   "codemirror_mode": {
    "name": "ipython",
    "version": 3
   },
   "file_extension": ".py",
   "mimetype": "text/x-python",
   "name": "python",
   "nbconvert_exporter": "python",
   "pygments_lexer": "ipython3",
   "version": "3.10.2"
  },
  "orig_nbformat": 4
 },
 "nbformat": 4,
 "nbformat_minor": 2
}
